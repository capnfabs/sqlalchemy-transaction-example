{
 "cells": [
  {
   "cell_type": "code",
   "execution_count": 1,
   "metadata": {},
   "outputs": [],
   "source": [
    "import datetime\n",
    "import os\n",
    "\n",
    "import sqlalchemy\n",
    "from dateutil import parser\n",
    "from sqlalchemy import orm\n",
    "\n",
    "from models import Zebra"
   ]
  },
  {
   "cell_type": "code",
   "execution_count": 2,
   "metadata": {},
   "outputs": [],
   "source": [
    "def _configure_logger():\n",
    "    import logging\n",
    "    import sys\n",
    "    sql_output = logging.StreamHandler(sys.stdout)\n",
    "\n",
    "    # Print SQL in red\n",
    "    formatter = logging.Formatter('\\033[91m%(message)s\\033[00m')\n",
    "    sql_output.setFormatter(formatter)\n",
    "\n",
    "    sql_logger = logging.getLogger('sqlalchemy.engine')\n",
    "    sql_logger.addHandler(sql_output)\n",
    "    sql_logger.setLevel(logging.INFO)"
   ]
  },
  {
   "cell_type": "code",
   "execution_count": 3,
   "metadata": {},
   "outputs": [],
   "source": [
    "engine = sqlalchemy.create_engine(os.environ['DATABASE_URL'])\n",
    "Session = orm.sessionmaker(bind=engine)\n",
    "_configure_logger()"
   ]
  },
  {
   "cell_type": "code",
   "execution_count": 4,
   "metadata": {},
   "outputs": [],
   "source": [
    "now = datetime.datetime.now\n",
    "YEAR = datetime.timedelta(days=365)"
   ]
  },
  {
   "cell_type": "code",
   "execution_count": 5,
   "metadata": {},
   "outputs": [],
   "source": [
    "session = Session()"
   ]
  },
  {
   "cell_type": "code",
   "execution_count": 6,
   "metadata": {},
   "outputs": [],
   "source": [
    "q = session.query(Zebra).filter(Zebra.when_born <= now() - 2*YEAR)"
   ]
  },
  {
   "cell_type": "code",
   "execution_count": 7,
   "metadata": {},
   "outputs": [
    {
     "name": "stdout",
     "output_type": "stream",
     "text": [
      "\u001b[91mselect version()\u001b[00m\n",
      "\u001b[91m{}\u001b[00m\n",
      "\u001b[91mselect current_schema()\u001b[00m\n",
      "\u001b[91m{}\u001b[00m\n",
      "\u001b[91mSELECT CAST('test plain returns' AS VARCHAR(60)) AS anon_1\u001b[00m\n",
      "\u001b[91m{}\u001b[00m\n",
      "\u001b[91mSELECT CAST('test unicode returns' AS VARCHAR(60)) AS anon_1\u001b[00m\n",
      "\u001b[91m{}\u001b[00m\n",
      "\u001b[91mshow standard_conforming_strings\u001b[00m\n",
      "\u001b[91m{}\u001b[00m\n",
      "\u001b[91mBEGIN (implicit)\u001b[00m\n",
      "\u001b[91mSELECT zebras.id AS zebras_id, zebras.name AS zebras_name, zebras.when_born AS zebras_when_born, zebras.when_stripes_counted AS zebras_when_stripes_counted, zebras.number_of_stripes AS zebras_number_of_stripes \n",
      "FROM zebras \n",
      "WHERE zebras.when_born <= %(when_born_1)s\u001b[00m\n",
      "\u001b[91m{'when_born_1': datetime.datetime(2017, 10, 27, 17, 0, 17, 678457)}\u001b[00m\n"
     ]
    }
   ],
   "source": [
    "zebras = q.all()"
   ]
  },
  {
   "cell_type": "code",
   "execution_count": 8,
   "metadata": {},
   "outputs": [
    {
     "name": "stdout",
     "output_type": "stream",
     "text": [
      "[<models.Zebra object at 0x1099b8590>, <models.Zebra object at 0x1099b8550>]\n"
     ]
    }
   ],
   "source": [
    "print(zebras)"
   ]
  },
  {
   "cell_type": "code",
   "execution_count": 9,
   "metadata": {},
   "outputs": [
    {
     "name": "stdout",
     "output_type": "stream",
     "text": [
      "\u001b[91mROLLBACK\u001b[00m\n"
     ]
    }
   ],
   "source": [
    "session.close()"
   ]
  },
  {
   "cell_type": "code",
   "execution_count": null,
   "metadata": {},
   "outputs": [],
   "source": []
  }
 ],
 "metadata": {
  "kernelspec": {
   "display_name": "Python 3",
   "language": "python",
   "name": "python3"
  },
  "language_info": {
   "codemirror_mode": {
    "name": "ipython",
    "version": 3
   },
   "file_extension": ".py",
   "mimetype": "text/x-python",
   "name": "python",
   "nbconvert_exporter": "python",
   "pygments_lexer": "ipython3",
   "version": "3.7.4"
  }
 },
 "nbformat": 4,
 "nbformat_minor": 2
}
